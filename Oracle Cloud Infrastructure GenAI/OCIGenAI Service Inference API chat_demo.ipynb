{
 "cells": [
  {
   "cell_type": "code",
   "execution_count": 1,
   "id": "d44f2515",
   "metadata": {},
   "outputs": [
    {
     "name": "stdout",
     "output_type": "stream",
     "text": [
      "**************************Chat Result**************************\n",
      "{'status': 200, 'headers': {'content-type': 'application/json', 'opc-request-id': 'A034EED8E7FE408982805753F728DE16/4BC96738F08CCE422E8489349640A230/0E900373EFB3D47B8370D8A873E43BB3', 'content-encoding': 'gzip', 'content-length': '1038'}, 'data': {\n",
      "  \"chat_response\": {\n",
      "    \"api_format\": \"COHERE\",\n",
      "    \"chat_history\": [\n",
      "      {\n",
      "        \"message\": \"As a corporate vice president, generate an email congratulating a team that has just shipped a new cloud service. Emphasize the great positive impact the new service will have on the productivity of their customers.\",\n",
      "        \"role\": \"USER\"\n",
      "      },\n",
      "      {\n",
      "        \"message\": \"Subject: Congratulations on the Launch of Our New Cloud Service!\\n\\nDear Team,\\n\\nI want to extend a huge congratulations to each and every one of you on the incredible achievement of shipping our newest cloud service! This is a significant milestone, and I'm incredibly proud of all your hard work, dedication, and collaboration that has led to this moment.\\n\\nThe launch of this cloud service is a game-changer. We've developed and delivered a cutting-edge solution that will revolutionize how businesses operate in the cloud. With its industry-leading features and capabilities, our customers will be able to streamline their operations, enhance their data management, and boost their overall productivity. The impact this service will have on our clients' workflows and bottom lines is truly exciting.\\n\\nYour dedication to delivering an exceptional product that exceeds customer expectations is commendable. This launch would not have been possible without your unwavering commitment, and I'm grateful for all the long hours and passion you've put into this project. Remember, this is just the beginning, and we now have a fantastic product to build upon and enhance further.\\n\\nThank you for your unwavering dedication, and keep up the outstanding work! I'm thrilled to see what's next for us.\\n\\nBest regards,\\n\\n[Your Name]\\nCorporate Vice President\",\n",
      "        \"role\": \"CHATBOT\",\n",
      "        \"tool_calls\": null\n",
      "      }\n",
      "    ],\n",
      "    \"citations\": null,\n",
      "    \"documents\": null,\n",
      "    \"error_message\": null,\n",
      "    \"finish_reason\": \"COMPLETE\",\n",
      "    \"is_search_required\": null,\n",
      "    \"prompt\": null,\n",
      "    \"search_queries\": null,\n",
      "    \"text\": \"Subject: Congratulations on the Launch of Our New Cloud Service!\\n\\nDear Team,\\n\\nI want to extend a huge congratulations to each and every one of you on the incredible achievement of shipping our newest cloud service! This is a significant milestone, and I'm incredibly proud of all your hard work, dedication, and collaboration that has led to this moment.\\n\\nThe launch of this cloud service is a game-changer. We've developed and delivered a cutting-edge solution that will revolutionize how businesses operate in the cloud. With its industry-leading features and capabilities, our customers will be able to streamline their operations, enhance their data management, and boost their overall productivity. The impact this service will have on our clients' workflows and bottom lines is truly exciting.\\n\\nYour dedication to delivering an exceptional product that exceeds customer expectations is commendable. This launch would not have been possible without your unwavering commitment, and I'm grateful for all the long hours and passion you've put into this project. Remember, this is just the beginning, and we now have a fantastic product to build upon and enhance further.\\n\\nThank you for your unwavering dedication, and keep up the outstanding work! I'm thrilled to see what's next for us.\\n\\nBest regards,\\n\\n[Your Name]\\nCorporate Vice President\",\n",
      "    \"tool_calls\": null\n",
      "  },\n",
      "  \"model_id\": \"ocid1.generativeaimodel.oc1.us-chicago-1.amaaaaaask7dceyawk6mgunzodenakhkuwxanvt6wo3jcpf72ln52dymk4wq\",\n",
      "  \"model_version\": \"1.2\"\n",
      "}, 'request': <oci.request.Request object at 0x0000017198F25210>, 'next_page': None, 'request_id': 'A034EED8E7FE408982805753F728DE16/4BC96738F08CCE422E8489349640A230/0E900373EFB3D47B8370D8A873E43BB3'}\n"
     ]
    }
   ],
   "source": [
    "# coding: utf-8\n",
    "# Copyright (c) 2023, Oracle and/or its affiliates.  All rights reserved.\n",
    "# This software is dual-licensed to you under the Universal Permissive License (UPL) 1.0 as shown at https://oss.oracle.com/licenses/upl or Apache License 2.0 as shown at http://www.apache.org/licenses/LICENSE-2.0. You may choose either license.\n",
    "\n",
    "##########################################################################\n",
    "# chat_demo.py\n",
    "# Supports Python 3\n",
    "##########################################################################\n",
    "# Info:\n",
    "# Get texts from LLM model for given prompts using OCI Generative AI Service.\n",
    "##########################################################################\n",
    "# Application Command line(no parameter needed)\n",
    "# python chat_demo.py\n",
    "##########################################################################\n",
    "import oci\n",
    "\n",
    "# Setup basic variables\n",
    "# Auth Config\n",
    "# TODO: Please update config profile name and use the compartmentId that has policies grant permissions for using Generative AI Service\n",
    "compartment_id = \"ocid1.tenancy.oc1..aaaaaaaaf4a2mihhz26covfccz5yqnm2c4fr6qgwxoexfu7xadgf5h4zsvoq\"\n",
    "CONFIG_PROFILE = \"DEFAULT\"\n",
    "config = oci.config.from_file('config', CONFIG_PROFILE)\n",
    "\n",
    "# Service endpoint\n",
    "endpoint = \"https://inference.generativeai.us-chicago-1.oci.oraclecloud.com\"\n",
    "\n",
    "generative_ai_inference_client = oci.generative_ai_inference.GenerativeAiInferenceClient(config=config, service_endpoint=endpoint, retry_strategy=oci.retry.NoneRetryStrategy(), timeout=(10,240))\n",
    "chat_detail = oci.generative_ai_inference.models.ChatDetails()\n",
    "\n",
    "chat_request = oci.generative_ai_inference.models.CohereChatRequest()\n",
    "chat_request.message = \"As a corporate vice president, generate an email congratulating a team that has just shipped a new cloud service. Emphasize the great positive impact the new service will have on the productivity of their customers.\"\n",
    "chat_request.max_tokens = 600\n",
    "chat_request.temperature = 0.5\n",
    "chat_request.frequency_penalty = 1\n",
    "chat_request.top_p = 0.75\n",
    "chat_request.top_k = 0\n",
    "\n",
    "\n",
    "chat_detail.serving_mode = oci.generative_ai_inference.models.OnDemandServingMode(model_id=\"ocid1.generativeaimodel.oc1.us-chicago-1.amaaaaaask7dceyawk6mgunzodenakhkuwxanvt6wo3jcpf72ln52dymk4wq\")\n",
    "chat_detail.chat_request = chat_request\n",
    "chat_detail.compartment_id = compartment_id\n",
    "chat_response = generative_ai_inference_client.chat(chat_detail)\n",
    "# Print result\n",
    "print(\"**************************Chat Result**************************\")\n",
    "print(vars(chat_response))\n"
   ]
  },
  {
   "cell_type": "code",
   "execution_count": null,
   "id": "4be315e3",
   "metadata": {},
   "outputs": [],
   "source": []
  }
 ],
 "metadata": {
  "kernelspec": {
   "display_name": "Python 3 (ipykernel)",
   "language": "python",
   "name": "python3"
  },
  "language_info": {
   "codemirror_mode": {
    "name": "ipython",
    "version": 3
   },
   "file_extension": ".py",
   "mimetype": "text/x-python",
   "name": "python",
   "nbconvert_exporter": "python",
   "pygments_lexer": "ipython3",
   "version": "3.11.3"
  }
 },
 "nbformat": 4,
 "nbformat_minor": 5
}
